{
 "cells": [
  {
   "cell_type": "code",
   "execution_count": 1,
   "metadata": {},
   "outputs": [],
   "source": [
    "import os\n",
    "import numpy as np\n",
    "import pandas as pd\n",
    "from PIL import Image"
   ]
  },
  {
   "cell_type": "code",
   "execution_count": 54,
   "metadata": {},
   "outputs": [],
   "source": [
    "def rgb2gray(rgb):\n",
    "\tr, g, b = rgb[:,:,0], rgb[:,:,1], rgb[:,:,2]\n",
    "\tgray = 0.2989 * r + 0.5870 * g + 0.1140 * b\n",
    "\treturn gray\n",
    "\n",
    "def reshape(img):\n",
    "\treturn np.reshape(img, (img.shape[0], img.shape[1], 1))\n",
    "\n",
    "def get_imgs(domain, path_to_folder=\"\"):\n",
    "\tpath = path_to_folder + domain\n",
    "\timg_lst = []\n",
    "\tpath_lst = []\n",
    "\t\n",
    "\t# print(path)\n",
    "\tclass_id = 0\n",
    "\tfor r, d, f in os.walk(path):\n",
    "\t\tfor direct in d:\t\n",
    "\t\t\tfor r, d, f in os.walk(os.path.join(path , direct)):\n",
    "\t\t\t\tfor file in f:\n",
    "\t\t\t\t\tpath_to_image = os.path.join(r, file).replace(os.path.sep, '/') + ' ' + str(class_id)\n",
    "\t\t\t\t\t# print(path_to_image)\n",
    "\t\t\t\t\t# image = Image.open(path_to_image)\n",
    "\t\t\t\t\t# image = image.resize((224, 224), Image.LANCZOS)\n",
    "\t\t\t\t\t# image = np.array(image, dtype=int)\n",
    "\t\t\t\t\t# try:\n",
    "\t\t\t\t\t# \timage = reshape(rgb2gray(image))\n",
    "\t\t\t\t\t# except:\n",
    "\t\t\t\t\t# \timage = reshape(image)\n",
    "\t\t\t\t\t# image = Image.fromarray(image)\n",
    "\t\t\t\t\t# img_lst.append(image)\n",
    "\t\t\t\t\tpath_lst.append(path_to_image)\n",
    "\t\t\tclass_id += 1\n",
    "\t# img_df = pd.DataFrame(img_lst)\n",
    "\tpath_df = pd.DataFrame(path_lst)\n",
    "\treturn path_df\n",
    "\n",
    "domains = ['isar', 'optical']\n",
    "for domain in domains:\n",
    "\tdf = get_imgs(domain)\n",
    "\tdf.to_csv(f'image_list/{domain}.txt', header=None, index=None)"
   ]
  }
 ],
 "metadata": {
  "kernelspec": {
   "display_name": "base",
   "language": "python",
   "name": "python3"
  },
  "language_info": {
   "codemirror_mode": {
    "name": "ipython",
    "version": 3
   },
   "file_extension": ".py",
   "mimetype": "text/x-python",
   "name": "python",
   "nbconvert_exporter": "python",
   "pygments_lexer": "ipython3",
   "version": "3.11.7"
  }
 },
 "nbformat": 4,
 "nbformat_minor": 2
}
